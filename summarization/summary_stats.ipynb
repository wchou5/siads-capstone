{
 "cells": [
  {
   "cell_type": "code",
   "execution_count": 1,
   "metadata": {},
   "outputs": [],
   "source": [
    "import pandas as pd\n",
    "import altair as alt\n",
    "\n",
    "df = pd.read_csv('output/clean_df_output.csv')\n",
    "df['word_ratio'] = df['summary_wordcount'] / df['article_wordcount']\n",
    "df['sent_ratio'] = df['summary_sentcount'] / df['article_wordcount']\n",
    "\n",
    "# MaxRowsError on Altair\n",
    "df_sample = df.sample(5000)"
   ]
  },
  {
   "cell_type": "code",
   "execution_count": 2,
   "metadata": {},
   "outputs": [
    {
     "name": "stdout",
     "output_type": "stream",
     "text": [
      "Full Dataset\n",
      "Median: 0.07942238267148015\n",
      "Mean: 0.09232068294054795\n",
      "Dataset Sample\n",
      "Median: 0.07941707368868126\n",
      "Mean: 0.09265538925544795\n"
     ]
    }
   ],
   "source": [
    "print('Full Dataset')\n",
    "print('Median: ' + str(df['word_ratio'].median()))\n",
    "print('Mean: ' + str(df['word_ratio'].mean()))\n",
    "print('Dataset Sample')\n",
    "print('Median: ' + str(df_sample['word_ratio'].median()))\n",
    "print('Mean: ' + str(df_sample['word_ratio'].mean()))\n",
    "\n",
    "alt.Chart(\n",
    "  df_sample,\n",
    "  title = 'Article Wordcount vs Summary Wordcount'\n",
    ").mark_circle().encode(\n",
    "  x = 'article_wordcount',\n",
    "  y = 'summary_wordcount'\n",
    ").properties(\n",
    "  width = 800,\n",
    "  height = 500\n",
    ");"
   ]
  },
  {
   "cell_type": "code",
   "execution_count": 3,
   "metadata": {},
   "outputs": [
    {
     "name": "stdout",
     "output_type": "stream",
     "text": [
      "Full Dataset\n",
      "Median: 48.0\n",
      "Mean: 51.51011622601554\n",
      "Dataset Sample\n",
      "Median: 48.0\n",
      "Mean: 51.163\n"
     ]
    }
   ],
   "source": [
    "print('Full Dataset')\n",
    "print('Median: ' + str(df['summary_wordcount'].median()))\n",
    "print('Mean: ' + str(df['summary_wordcount'].mean()))\n",
    "print('Dataset Sample')\n",
    "print('Median: ' + str(df_sample['summary_wordcount'].median()))\n",
    "print('Mean: ' + str(df_sample['summary_wordcount'].mean()))\n",
    "\n",
    "alt.Chart(\n",
    "  df_sample,\n",
    "  title = 'Summary Wordcount'\n",
    ").mark_bar().encode(\n",
    "    x='summary_wordcount:N',\n",
    "    y='count(summary_wordcount):N'\n",
    ").properties(\n",
    "  width = 1500\n",
    ");"
   ]
  },
  {
   "cell_type": "code",
   "execution_count": 4,
   "metadata": {},
   "outputs": [
    {
     "name": "stdout",
     "output_type": "stream",
     "text": [
      "Full Dataset\n",
      "Median: 0.005813953488372093\n",
      "Mean: 0.006886094432584911\n",
      "Dataset Sample\n",
      "Median: 0.005780346820809248\n",
      "Mean: 0.006973709982821964\n"
     ]
    }
   ],
   "source": [
    "print('Full Dataset')\n",
    "print('Median: ' + str(df['sent_ratio'].median()))\n",
    "print('Mean: ' + str(df['sent_ratio'].mean()))\n",
    "print('Dataset Sample')\n",
    "print('Median: ' + str(df_sample['sent_ratio'].median()))\n",
    "print('Mean: ' + str(df_sample['sent_ratio'].mean()))\n",
    "\n",
    "alt.Chart(\n",
    "  df_sample,\n",
    "  title = 'Article Wordcount vs Number of Sentences in Summary'\n",
    ").mark_circle().encode(\n",
    "  x = 'article_wordcount',\n",
    "  y = 'summary_sentcount'\n",
    ").properties(\n",
    "  width = 800,\n",
    "  height = 500\n",
    ");"
   ]
  },
  {
   "cell_type": "code",
   "execution_count": 5,
   "metadata": {},
   "outputs": [
    {
     "name": "stdout",
     "output_type": "stream",
     "text": [
      "Full Dataset\n",
      "Median: 4.0\n",
      "Mean: 3.756496571036491\n",
      "Dataset Sample\n",
      "Median: 4.0\n",
      "Mean: 3.7374\n"
     ]
    }
   ],
   "source": [
    "print('Full Dataset')\n",
    "print('Median: ' + str(df['summary_sentcount'].median()))\n",
    "print('Mean: ' + str(df['summary_sentcount'].mean()))\n",
    "print('Dataset Sample')\n",
    "print('Median: ' + str(df_sample['summary_sentcount'].median()))\n",
    "print('Mean: ' + str(df_sample['summary_sentcount'].mean()))\n",
    "\n",
    "alt.Chart(\n",
    "  df_sample,\n",
    "  title = 'Number of Sentences in Summary'\n",
    ").mark_bar().encode(\n",
    "    x='summary_sentcount:N',\n",
    "    y='count(summary_sentcount):N'\n",
    ");"
   ]
  }
 ],
 "metadata": {
  "kernelspec": {
   "display_name": "base",
   "language": "python",
   "name": "python3"
  },
  "language_info": {
   "codemirror_mode": {
    "name": "ipython",
    "version": 3
   },
   "file_extension": ".py",
   "mimetype": "text/x-python",
   "name": "python",
   "nbconvert_exporter": "python",
   "pygments_lexer": "ipython3",
   "version": "3.11.5"
  }
 },
 "nbformat": 4,
 "nbformat_minor": 2
}
