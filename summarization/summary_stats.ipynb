{
 "cells": [
  {
   "cell_type": "code",
   "execution_count": null,
   "metadata": {},
   "outputs": [],
   "source": [
    "import pandas as pd\n",
    "import altair as alt\n",
    "\n",
    "df = pd.read_csv('output/clean_df_output.csv')\n",
    "df['word_ratio'] = df['summary_wordcount'] / df['article_wordcount']\n",
    "df['sent_ratio'] = df['summary_sentcount'] / df['article_wordcount']\n",
    "\n",
    "# MaxRowsError on Altair\n",
    "df_sample = df.sample(5000)"
   ]
  },
  {
   "cell_type": "code",
   "execution_count": null,
   "metadata": {},
   "outputs": [],
   "source": [
    "print('Full Dataset')\n",
    "print('Median: ' + str(df['word_ratio'].median()))\n",
    "print('Mean: ' + str(df['word_ratio'].mean()))\n",
    "\n",
    "alt.Chart(\n",
    "  df_sample,\n",
    "  title = 'Article Wordcount vs Summary Wordcount'\n",
    ").mark_circle().encode(\n",
    "  x = alt.X('article_wordcount', title = 'Article Wordcount'),\n",
    "  y = alt.Y('summary_wordcount', title = 'Summary Wordcount')\n",
    ").properties(\n",
    "  width = 800,\n",
    "  height = 500\n",
    ")"
   ]
  },
  {
   "cell_type": "code",
   "execution_count": null,
   "metadata": {},
   "outputs": [],
   "source": [
    "print('Full Dataset')\n",
    "print('Median: ' + str(df['summary_wordcount'].median()))\n",
    "print('Mean: ' + str(df['summary_wordcount'].mean()))\n",
    "\n",
    "alt.Chart(\n",
    "  df_sample,\n",
    "  title = 'Summary Wordcount'\n",
    ").mark_bar().encode(\n",
    "    x = alt.X('summary_wordcount:N', title = 'Summary Wordcount'),\n",
    "    y = alt.Y('count(summary_wordcount):N', title = 'Number of Summaries')\n",
    ").properties(\n",
    "  width = 1500\n",
    ")"
   ]
  },
  {
   "cell_type": "code",
   "execution_count": null,
   "metadata": {},
   "outputs": [],
   "source": [
    "print('Full Dataset')\n",
    "print('Median: ' + str(df['sent_ratio'].median()))\n",
    "print('Mean: ' + str(df['sent_ratio'].mean()))\n",
    "\n",
    "alt.Chart(\n",
    "  df_sample,\n",
    "  title = 'Article Wordcount vs Number of Sentences in Summary'\n",
    ").mark_circle().encode(\n",
    "  x = alt.X('article_wordcount', title = 'Article Wordcount'),\n",
    "  y = alt.Y('summary_sentcount', title = 'Number of Sentences in Summary')\n",
    ").properties(\n",
    "  width = 800,\n",
    "  height = 500\n",
    ")"
   ]
  },
  {
   "cell_type": "code",
   "execution_count": null,
   "metadata": {},
   "outputs": [],
   "source": [
    "print('Full Dataset')\n",
    "print('Median: ' + str(df['summary_sentcount'].median()))\n",
    "print('Mean: ' + str(df['summary_sentcount'].mean()))\n",
    "\n",
    "alt.Chart(\n",
    "  df_sample,\n",
    "  title = 'Number of Sentences in Summary'\n",
    ").mark_bar().encode(\n",
    "    x = alt.X('summary_sentcount:N', title = 'Number of Sentences in Summary'),\n",
    "    y = alt.Y('count(summary_sentcount):N', title = 'Number of Summaries')\n",
    ")"
   ]
  }
 ],
 "metadata": {
  "kernelspec": {
   "display_name": "base",
   "language": "python",
   "name": "python3"
  },
  "language_info": {
   "codemirror_mode": {
    "name": "ipython",
    "version": 3
   },
   "file_extension": ".py",
   "mimetype": "text/x-python",
   "name": "python",
   "nbconvert_exporter": "python",
   "pygments_lexer": "ipython3",
   "version": "3.11.5"
  }
 },
 "nbformat": 4,
 "nbformat_minor": 2
}
