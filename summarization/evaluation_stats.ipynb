{
 "cells": [
  {
   "cell_type": "code",
   "execution_count": 9,
   "metadata": {},
   "outputs": [],
   "source": [
    "import pandas as pd\n",
    "import altair as alt\n",
    "\n",
    "df = pd.read_csv('output/evaluate_summaries_output.csv')\n",
    "\n",
    "boxplot_size = 50\n",
    "outlier_size = 3"
   ]
  },
  {
   "cell_type": "code",
   "execution_count": 10,
   "metadata": {},
   "outputs": [],
   "source": [
    "rouge1_df = df[['pysum_rouge1','gensim_rouge1', 'spacy_rouge1', 'cos_sim_rouge1']]\n",
    "rouge1_df.columns = ['pysum', 'gensim', 'spacy', 'cos_sim']\n",
    "\n",
    "alt.Chart(\n",
    "  rouge1_df,\n",
    "  title = 'Scores for Rouge Unigram Metric per Summarization Method'\n",
    ").transform_fold(\n",
    "  ['pysum', 'gensim', 'spacy', 'cos_sim'],\n",
    "  as_ = ['Method', 'Score']\n",
    ").mark_boxplot(\n",
    "  size = boxplot_size,\n",
    "  outliers = {'size': outlier_size}\n",
    ").encode(\n",
    "  x = alt.X('Method:N', axis = alt.Axis(labelAngle = -45)),\n",
    "  y = alt.Y('Score:Q', scale = alt.Scale(domain = (0, 1)))\n",
    ").properties(\n",
    "  width = 300\n",
    ");"
   ]
  },
  {
   "cell_type": "code",
   "execution_count": 11,
   "metadata": {},
   "outputs": [],
   "source": [
    "rouge2_df = df[['pysum_rouge2','gensim_rouge2', 'spacy_rouge2', 'cos_sim_rouge2']]\n",
    "rouge2_df.columns = ['pysum', 'gensim', 'spacy', 'cos_sim']\n",
    "\n",
    "alt.Chart(\n",
    "  rouge2_df,\n",
    "  title = 'Scores for Rouge Bigram Metric per Summarization Method'\n",
    ").transform_fold(\n",
    "  ['pysum', 'gensim', 'spacy', 'cos_sim'],\n",
    "  as_ = ['Method', 'Score']\n",
    ").mark_boxplot(\n",
    "  size = boxplot_size,\n",
    "  outliers = {'size': outlier_size}\n",
    ").encode(\n",
    "  x = alt.X('Method:N', axis = alt.Axis(labelAngle = -45)),\n",
    "  y = alt.Y('Score:Q', scale = alt.Scale(domain = (0, 1)))\n",
    ").properties(\n",
    "  width = 300\n",
    ");"
   ]
  },
  {
   "cell_type": "code",
   "execution_count": 12,
   "metadata": {},
   "outputs": [],
   "source": [
    "rougeL_df = df[['pysum_rougeL','gensim_rougeL', 'spacy_rougeL', 'cos_sim_rougeL']]\n",
    "rougeL_df.columns = ['pysum', 'gensim', 'spacy', 'cos_sim']\n",
    "\n",
    "alt.Chart(\n",
    "  rougeL_df,\n",
    "  title = 'Scores for Rouge L Metric per Summarization Method'\n",
    ").transform_fold(\n",
    "  ['pysum', 'gensim', 'spacy', 'cos_sim'],\n",
    "  as_ = ['Method', 'Score']\n",
    ").mark_boxplot(\n",
    "  size = boxplot_size,\n",
    "  outliers = {'size': outlier_size}\n",
    ").encode(\n",
    "  x = alt.X('Method:N', axis = alt.Axis(labelAngle = -45)),\n",
    "  y = alt.Y('Score:Q', scale = alt.Scale(domain = (0, 1)))\n",
    ").properties(\n",
    "  width = 300\n",
    ");"
   ]
  },
  {
   "cell_type": "code",
   "execution_count": 13,
   "metadata": {},
   "outputs": [],
   "source": [
    "rougeLsum_df = df[['pysum_rougeLsum','gensim_rougeLsum', 'spacy_rougeLsum', 'cos_sim_rougeLsum']]\n",
    "rougeLsum_df.columns = ['pysum', 'gensim', 'spacy', 'cos_sim']\n",
    "\n",
    "alt.Chart(\n",
    "  rougeLsum_df,\n",
    "  title = 'Scores for Rouge Lsum Metric per Summarization Method'\n",
    ").transform_fold(\n",
    "  ['pysum', 'gensim', 'spacy', 'cos_sim'],\n",
    "  as_ = ['Method', 'Score']\n",
    ").mark_boxplot(\n",
    "  size = boxplot_size,\n",
    "  outliers = {'size': outlier_size}\n",
    ").encode(\n",
    "  x = alt.X('Method:N', axis = alt.Axis(labelAngle = -45)),\n",
    "  y = alt.Y('Score:Q', scale = alt.Scale(domain = (0, 1)))\n",
    ").properties(\n",
    "  width = 300\n",
    ");"
   ]
  },
  {
   "cell_type": "code",
   "execution_count": 14,
   "metadata": {},
   "outputs": [],
   "source": [
    "bleu_df = df[['pysum_bleu','gensim_bleu', 'spacy_bleu', 'cos_sim_bleu']]\n",
    "bleu_df.columns = ['pysum', 'gensim', 'spacy', 'cos_sim']\n",
    "\n",
    "alt.Chart(\n",
    "  bleu_df,\n",
    "  title = 'Scores for Bleu Metric per Summarization Method'\n",
    ").transform_fold(\n",
    "  ['pysum', 'gensim', 'spacy', 'cos_sim'],\n",
    "  as_ = ['Method', 'Score']\n",
    ").mark_boxplot(\n",
    "  size = boxplot_size,\n",
    "  outliers = {'size': outlier_size}\n",
    ").encode(\n",
    "  x = alt.X('Method:N', axis = alt.Axis(labelAngle = -45)),\n",
    "  y = alt.Y('Score:Q', scale = alt.Scale(domain = (0, 1)))\n",
    ").properties(\n",
    "  width = 300\n",
    ");"
   ]
  },
  {
   "cell_type": "code",
   "execution_count": 15,
   "metadata": {},
   "outputs": [],
   "source": [
    "bert_df = df[['pysum_bert','gensim_bert', 'spacy_bert', 'cos_sim_bert']]\n",
    "bert_df.columns = ['pysum', 'gensim', 'spacy', 'cos_sim']\n",
    "\n",
    "alt.Chart(\n",
    "  bert_df,\n",
    "  title = 'Scores for BertScore Metric per Summarization Method'\n",
    ").transform_fold(\n",
    "  ['pysum', 'gensim', 'spacy', 'cos_sim'],\n",
    "  as_ = ['Method', 'Score']\n",
    ").mark_boxplot(\n",
    "  size = boxplot_size,\n",
    "  outliers = {'size': outlier_size}\n",
    ").encode(\n",
    "  x = alt.X('Method:N', axis = alt.Axis(labelAngle = -45)),\n",
    "  y = alt.Y('Score:Q', scale = alt.Scale(domain = (0, 1)))\n",
    ").properties(\n",
    "  width = 300\n",
    ");"
   ]
  },
  {
   "cell_type": "code",
   "execution_count": 16,
   "metadata": {},
   "outputs": [],
   "source": [
    "meteor_df = df[['pysum_meteor','gensim_meteor', 'spacy_meteor', 'cos_sim_meteor']]\n",
    "meteor_df.columns = ['pysum', 'gensim', 'spacy', 'cos_sim']\n",
    "\n",
    "alt.Chart(\n",
    "  meteor_df,\n",
    "  title = 'Scores for Meteor Metric per Summarization Method'\n",
    ").transform_fold(\n",
    "  ['pysum', 'gensim', 'spacy', 'cos_sim'],\n",
    "  as_ = ['Method', 'Score']\n",
    ").mark_boxplot(\n",
    "  size = boxplot_size,\n",
    "  outliers = {'size': outlier_size}\n",
    ").encode(\n",
    "  x = alt.X('Method:N', axis = alt.Axis(labelAngle = -45)),\n",
    "  y = alt.Y('Score:Q', scale = alt.Scale(domain = (0, 1)))\n",
    ").properties(\n",
    "  width = 300\n",
    ");"
   ]
  }
 ],
 "metadata": {
  "kernelspec": {
   "display_name": "base",
   "language": "python",
   "name": "python3"
  },
  "language_info": {
   "codemirror_mode": {
    "name": "ipython",
    "version": 3
   },
   "file_extension": ".py",
   "mimetype": "text/x-python",
   "name": "python",
   "nbconvert_exporter": "python",
   "pygments_lexer": "ipython3",
   "version": "3.11.5"
  }
 },
 "nbformat": 4,
 "nbformat_minor": 2
}
