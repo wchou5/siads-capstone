{
 "cells": [
  {
   "cell_type": "code",
   "execution_count": null,
   "metadata": {},
   "outputs": [],
   "source": [
    "import pandas as pd\n",
    "import altair as alt\n",
    "\n",
    "df = pd.read_csv('output/evaluate_summaries_output.csv')"
   ]
  },
  {
   "cell_type": "code",
   "execution_count": null,
   "metadata": {},
   "outputs": [],
   "source": [
    "rouge1_df = df[['pysum_rouge1','gensim_rouge1', 'spacy_rouge1', 'cos_sim_rouge1']]\n",
    "rouge1_df.columns = ['pysum', 'gensim', 'spacy', 'cos_sim']\n",
    "\n",
    "alt.Chart(rouge1_df, title = 'Scores for Rouge Unigram Metric per Summarization Method'\n",
    ").transform_fold(\n",
    "  ['pysum', 'gensim', 'spacy', 'cos_sim'],\n",
    "  as_ = ['Method', 'Score']\n",
    ").mark_boxplot(\n",
    "  size = 50,\n",
    "  outliers = {'size': 3}\n",
    ").encode(\n",
    "  x = alt.X('Method:N', axis = alt.Axis(labelAngle = 0), sort = ['pysum', 'gensim', 'spacy', 'cos_sim']),\n",
    "  y = alt.Y('Score:Q', scale = alt.Scale(domain = (0, 1)))\n",
    ").properties(width = 300).configure_title(fontSize = 14).configure_axis(labelFontSize = 12, titleFontSize = 12)"
   ]
  },
  {
   "cell_type": "code",
   "execution_count": null,
   "metadata": {},
   "outputs": [],
   "source": [
    "chart1 = alt.Chart(rouge1_df).mark_bar().encode(x = alt.X('pysum:Q', bin = alt.Bin(extent = [0, 1], step = 0.05)), y = 'count()').properties(height = 100, width = 500)\n",
    "chart2 = alt.Chart(rouge1_df).mark_bar().encode(x = alt.X('gensim:Q', bin = alt.Bin(extent = [0, 1], step = 0.05)),y = 'count()').properties(height = 100, width = 500)\n",
    "chart3 = alt.Chart(rouge1_df).mark_bar().encode(x = alt.X('spacy:Q', bin = alt.Bin(extent = [0, 1], step = 0.05)),y = 'count()').properties(height = 100, width = 500)\n",
    "chart4 = alt.Chart(rouge1_df).mark_bar().encode(x = alt.X('cos_sim:Q', bin = alt.Bin(extent = [0, 1], step = 0.05)),y = 'count()').properties(height = 100, width = 500)\n",
    "alt.vconcat(chart1, chart2, chart3, chart4\n",
    "  ).properties(title = alt.TitleParams(text = 'Scores for Rouge Unigram Metric per Summarization Method', fontSize = 16, align = 'center', dx = 275)\n",
    "  ).configure_title(fontSize = 14).configure_axis(labelFontSize = 12, titleFontSize = 12)"
   ]
  },
  {
   "cell_type": "code",
   "execution_count": null,
   "metadata": {},
   "outputs": [],
   "source": [
    "rouge2_df = df[['pysum_rouge2','gensim_rouge2', 'spacy_rouge2', 'cos_sim_rouge2']]\n",
    "rouge2_df.columns = ['pysum', 'gensim', 'spacy', 'cos_sim']\n",
    "\n",
    "alt.Chart(rouge2_df, title = 'Scores for Rouge Bigram Metric per Summarization Method'\n",
    ").transform_fold(\n",
    "  ['pysum', 'gensim', 'spacy', 'cos_sim'],\n",
    "  as_ = ['Method', 'Score']\n",
    ").mark_boxplot(\n",
    "  size = 50,\n",
    "  outliers = {'size': 3}\n",
    ").encode(\n",
    "  x = alt.X('Method:N', axis = alt.Axis(labelAngle = 0), sort = ['pysum', 'gensim', 'spacy', 'cos_sim']),\n",
    "  y = alt.Y('Score:Q', scale = alt.Scale(domain = (0, 1)))\n",
    ").properties(width = 300).configure_title(fontSize = 14).configure_axis(labelFontSize = 12, titleFontSize = 12)"
   ]
  },
  {
   "cell_type": "code",
   "execution_count": null,
   "metadata": {},
   "outputs": [],
   "source": [
    "chart1 = alt.Chart(rouge2_df).mark_bar().encode(x = alt.X('pysum:Q', bin = alt.Bin(extent = [0, 1], step = 0.05)), y = 'count()').properties(height = 100, width = 500)\n",
    "chart2 = alt.Chart(rouge2_df).mark_bar().encode(x = alt.X('gensim:Q', bin = alt.Bin(extent = [0, 1], step = 0.05)),y = 'count()').properties(height = 100, width = 500)\n",
    "chart3 = alt.Chart(rouge2_df).mark_bar().encode(x = alt.X('spacy:Q', bin = alt.Bin(extent = [0, 1], step = 0.05)),y = 'count()').properties(height = 100, width = 500)\n",
    "chart4 = alt.Chart(rouge2_df).mark_bar().encode(x = alt.X('cos_sim:Q', bin = alt.Bin(extent = [0, 1], step = 0.05)),y = 'count()').properties(height = 100, width = 500)\n",
    "alt.vconcat(chart1, chart2, chart3, chart4\n",
    "  ).properties(title = alt.TitleParams(text = 'Scores for Rouge Bigram Metric per Summarization Method', fontSize = 16, align = 'center', dx = 275)\n",
    "  ).configure_title(fontSize = 14).configure_axis(labelFontSize = 12, titleFontSize = 12)"
   ]
  },
  {
   "cell_type": "code",
   "execution_count": null,
   "metadata": {},
   "outputs": [],
   "source": [
    "rougeL_df = df[['pysum_rougeL','gensim_rougeL', 'spacy_rougeL', 'cos_sim_rougeL']]\n",
    "rougeL_df.columns = ['pysum', 'gensim', 'spacy', 'cos_sim']\n",
    "\n",
    "alt.Chart(rougeL_df, title = 'Scores for Rouge L Metric per Summarization Method'\n",
    ").transform_fold(\n",
    "  ['pysum', 'gensim', 'spacy', 'cos_sim'],\n",
    "  as_ = ['Method', 'Score']\n",
    ").mark_boxplot(\n",
    "  size = 50,\n",
    "  outliers = {'size': 3}\n",
    ").encode(\n",
    "  x = alt.X('Method:N', axis = alt.Axis(labelAngle = 0), sort = ['pysum', 'gensim', 'spacy', 'cos_sim']),\n",
    "  y = alt.Y('Score:Q', scale = alt.Scale(domain = (0, 1)))\n",
    ").properties(width = 300).configure_title(fontSize = 14).configure_axis(labelFontSize = 12, titleFontSize = 12)"
   ]
  },
  {
   "cell_type": "code",
   "execution_count": null,
   "metadata": {},
   "outputs": [],
   "source": [
    "chart1 = alt.Chart(rougeL_df).mark_bar().encode(x = alt.X('pysum:Q', bin = alt.Bin(extent = [0, 1], step = 0.05)), y = 'count()').properties(height = 100, width = 500)\n",
    "chart2 = alt.Chart(rougeL_df).mark_bar().encode(x = alt.X('gensim:Q', bin = alt.Bin(extent = [0, 1], step = 0.05)),y = 'count()').properties(height = 100, width = 500)\n",
    "chart3 = alt.Chart(rougeL_df).mark_bar().encode(x = alt.X('spacy:Q', bin = alt.Bin(extent = [0, 1], step = 0.05)),y = 'count()').properties(height = 100, width = 500)\n",
    "chart4 = alt.Chart(rougeL_df).mark_bar().encode(x = alt.X('cos_sim:Q', bin = alt.Bin(extent = [0, 1], step = 0.05)),y = 'count()').properties(height = 100, width = 500)\n",
    "alt.vconcat(chart1, chart2, chart3, chart4\n",
    "  ).properties(title = alt.TitleParams(text = 'Scores for Rouge L Metric per Summarization Method', fontSize = 16, align = 'center', dx = 275)\n",
    "  ).configure_title(fontSize = 14).configure_axis(labelFontSize = 12, titleFontSize = 12)\n"
   ]
  },
  {
   "cell_type": "code",
   "execution_count": null,
   "metadata": {},
   "outputs": [],
   "source": [
    "rougeLsum_df = df[['pysum_rougeLsum','gensim_rougeLsum', 'spacy_rougeLsum', 'cos_sim_rougeLsum']]\n",
    "rougeLsum_df.columns = ['pysum', 'gensim', 'spacy', 'cos_sim']\n",
    "\n",
    "alt.Chart(rougeLsum_df, title = 'Scores for Rouge Lsum Metric per Summarization Method'\n",
    ").transform_fold(\n",
    "  ['pysum', 'gensim', 'spacy', 'cos_sim'],\n",
    "  as_ = ['Method', 'Score']\n",
    ").mark_boxplot(\n",
    "  size = 50,\n",
    "  outliers = {'size': 3}\n",
    ").encode(\n",
    "  x = alt.X('Method:N', axis = alt.Axis(labelAngle = 0), sort = ['pysum', 'gensim', 'spacy', 'cos_sim']),\n",
    "  y = alt.Y('Score:Q', scale = alt.Scale(domain = (0, 1)))\n",
    ").properties(width = 300).configure_title(fontSize = 14).configure_axis(labelFontSize = 12, titleFontSize = 12)"
   ]
  },
  {
   "cell_type": "code",
   "execution_count": null,
   "metadata": {},
   "outputs": [],
   "source": [
    "chart1 = alt.Chart(rougeLsum_df).mark_bar().encode(x = alt.X('pysum:Q', bin = alt.Bin(extent = [0, 1], step = 0.05)), y = 'count()').properties(height = 100, width = 500)\n",
    "chart2 = alt.Chart(rougeLsum_df).mark_bar().encode(x = alt.X('gensim:Q', bin = alt.Bin(extent = [0, 1], step = 0.05)),y = 'count()').properties(height = 100, width = 500)\n",
    "chart3 = alt.Chart(rougeLsum_df).mark_bar().encode(x = alt.X('spacy:Q', bin = alt.Bin(extent = [0, 1], step = 0.05)),y = 'count()').properties(height = 100, width = 500)\n",
    "chart4 = alt.Chart(rougeLsum_df).mark_bar().encode(x = alt.X('cos_sim:Q', bin = alt.Bin(extent = [0, 1], step = 0.05)),y = 'count()').properties(height = 100, width = 500)\n",
    "alt.vconcat(chart1, chart2, chart3, chart4\n",
    "  ).properties(title = alt.TitleParams(text = 'Scores for Rouge Lsum Metric per Summarization Method', fontSize = 16, align = 'center', dx = 275)\n",
    "  ).configure_title(fontSize = 14).configure_axis(labelFontSize = 12, titleFontSize = 12)"
   ]
  },
  {
   "cell_type": "code",
   "execution_count": null,
   "metadata": {},
   "outputs": [],
   "source": [
    "bleu_df = df[['pysum_bleu','gensim_bleu', 'spacy_bleu', 'cos_sim_bleu']]\n",
    "bleu_df.columns = ['pysum', 'gensim', 'spacy', 'cos_sim']\n",
    "\n",
    "alt.Chart(bleu_df, title = 'Scores for Bleu Metric per Summarization Method'\n",
    ").transform_fold(\n",
    "  ['pysum', 'gensim', 'spacy', 'cos_sim'],\n",
    "  as_ = ['Method', 'Score']\n",
    ").mark_boxplot(\n",
    "  size = 50,\n",
    "  outliers = {'size': 3}\n",
    ").encode(\n",
    "  x = alt.X('Method:N', axis = alt.Axis(labelAngle = 0), sort = ['pysum', 'gensim', 'spacy', 'cos_sim']),\n",
    "  y = alt.Y('Score:Q', scale = alt.Scale(domain = (0, 1)))\n",
    ").properties(width = 300).configure_title(fontSize = 14).configure_axis(labelFontSize = 12, titleFontSize = 12)"
   ]
  },
  {
   "cell_type": "code",
   "execution_count": null,
   "metadata": {},
   "outputs": [],
   "source": [
    "chart1 = alt.Chart(bleu_df).mark_bar().encode(x = alt.X('pysum:Q', bin = alt.Bin(extent = [0, 1], step = 0.05)), y = 'count()').properties(height = 100, width = 500)\n",
    "chart2 = alt.Chart(bleu_df).mark_bar().encode(x = alt.X('gensim:Q', bin = alt.Bin(extent = [0, 1], step = 0.05)),y = 'count()').properties(height = 100, width = 500)\n",
    "chart3 = alt.Chart(bleu_df).mark_bar().encode(x = alt.X('spacy:Q', bin = alt.Bin(extent = [0, 1], step = 0.05)),y = 'count()').properties(height = 100, width = 500)\n",
    "chart4 = alt.Chart(bleu_df).mark_bar().encode(x = alt.X('cos_sim:Q', bin = alt.Bin(extent = [0, 1], step = 0.05)),y = 'count()').properties(height = 100, width = 500)\n",
    "alt.vconcat(chart1, chart2, chart3, chart4\n",
    "  ).properties(title = alt.TitleParams(text = 'Scores for Bleu Metric per Summarization Method', fontSize = 16, align = 'center', dx = 275)\n",
    "  ).configure_title(fontSize = 14).configure_axis(labelFontSize = 12, titleFontSize = 12)"
   ]
  },
  {
   "cell_type": "code",
   "execution_count": null,
   "metadata": {},
   "outputs": [],
   "source": [
    "bert_df = df[['pysum_bert','gensim_bert', 'spacy_bert', 'cos_sim_bert']]\n",
    "bert_df.columns = ['pysum', 'gensim', 'spacy', 'cos_sim']\n",
    "\n",
    "alt.Chart(bert_df, title = 'Scores for BertScore Metric per Summarization Method'\n",
    ").transform_fold(\n",
    "  ['pysum', 'gensim', 'spacy', 'cos_sim'],\n",
    "  as_ = ['Method', 'Score']\n",
    ").mark_boxplot(\n",
    "  size = 50,\n",
    "  outliers = {'size': 3}\n",
    ").encode(\n",
    "  x = alt.X('Method:N', axis = alt.Axis(labelAngle = 0), sort = ['pysum', 'gensim', 'spacy', 'cos_sim']),\n",
    "  y = alt.Y('Score:Q', scale = alt.Scale(domain = (0, 1)))\n",
    ").properties(width = 300).configure_title(fontSize = 14).configure_axis(labelFontSize = 12, titleFontSize = 12)"
   ]
  },
  {
   "cell_type": "code",
   "execution_count": null,
   "metadata": {},
   "outputs": [],
   "source": [
    "chart1 = alt.Chart(bert_df).mark_bar().encode(x = alt.X('pysum:Q', bin = alt.Bin(extent = [0, 1], step = 0.05)), y = 'count()').properties(height = 100, width = 500)\n",
    "chart2 = alt.Chart(bert_df).mark_bar().encode(x = alt.X('gensim:Q', bin = alt.Bin(extent = [0, 1], step = 0.05)),y = 'count()').properties(height = 100, width = 500)\n",
    "chart3 = alt.Chart(bert_df).mark_bar().encode(x = alt.X('spacy:Q', bin = alt.Bin(extent = [0, 1], step = 0.05)),y = 'count()').properties(height = 100, width = 500)\n",
    "chart4 = alt.Chart(bert_df).mark_bar().encode(x = alt.X('cos_sim:Q', bin = alt.Bin(extent = [0, 1], step = 0.05)),y = 'count()').properties(height = 100, width = 500)\n",
    "alt.vconcat(chart1, chart2, chart3, chart4\n",
    "  ).properties(title = alt.TitleParams(text = 'Scores for BertScore Metric per Summarization Method', fontSize = 16, align = 'center', dx = 275)\n",
    "  ).configure_title(fontSize = 14).configure_axis(labelFontSize = 12, titleFontSize = 12)"
   ]
  },
  {
   "cell_type": "code",
   "execution_count": null,
   "metadata": {},
   "outputs": [],
   "source": [
    "meteor_df = df[['pysum_meteor','gensim_meteor', 'spacy_meteor', 'cos_sim_meteor']]\n",
    "meteor_df.columns = ['pysum', 'gensim', 'spacy', 'cos_sim']\n",
    "\n",
    "alt.Chart(meteor_df, title = 'Scores for Meteor Metric per Summarization Method'\n",
    ").transform_fold(\n",
    "  ['pysum', 'gensim', 'spacy', 'cos_sim'],\n",
    "  as_ = ['Method', 'Score']\n",
    ").mark_boxplot(\n",
    "  size = 50,\n",
    "  outliers = {'size': 3}\n",
    ").encode(\n",
    "  x = alt.X('Method:N', axis = alt.Axis(labelAngle = 0), sort = ['pysum', 'gensim', 'spacy', 'cos_sim']),\n",
    "  y = alt.Y('Score:Q', scale = alt.Scale(domain = (0, 1)))\n",
    ").properties(width = 300).configure_title(fontSize = 14).configure_axis(labelFontSize = 12, titleFontSize = 12)"
   ]
  },
  {
   "cell_type": "code",
   "execution_count": null,
   "metadata": {},
   "outputs": [],
   "source": [
    "chart1 = alt.Chart(meteor_df).mark_bar().encode(x = alt.X('pysum:Q', bin = alt.Bin(extent = [0, 1], step = 0.05)), y = 'count()').properties(height = 100, width = 500)\n",
    "chart2 = alt.Chart(meteor_df).mark_bar().encode(x = alt.X('gensim:Q', bin = alt.Bin(extent = [0, 1], step = 0.05)),y = 'count()').properties(height = 100, width = 500)\n",
    "chart3 = alt.Chart(meteor_df).mark_bar().encode(x = alt.X('spacy:Q', bin = alt.Bin(extent = [0, 1], step = 0.05)),y = 'count()').properties(height = 100, width = 500)\n",
    "chart4 = alt.Chart(meteor_df).mark_bar().encode(x = alt.X('cos_sim:Q', bin = alt.Bin(extent = [0, 1], step = 0.05)),y = 'count()').properties(height = 100, width = 500)\n",
    "alt.vconcat(chart1, chart2, chart3, chart4\n",
    "  ).properties(title = alt.TitleParams(text = 'Scores for Meteor Metric per Summarization Method', fontSize = 16, align = 'center', dx = 275)\n",
    "  ).configure_title(fontSize = 14).configure_axis(labelFontSize = 12, titleFontSize = 12)"
   ]
  }
 ],
 "metadata": {
  "kernelspec": {
   "display_name": "base",
   "language": "python",
   "name": "python3"
  },
  "language_info": {
   "codemirror_mode": {
    "name": "ipython",
    "version": 3
   },
   "file_extension": ".py",
   "mimetype": "text/x-python",
   "name": "python",
   "nbconvert_exporter": "python",
   "pygments_lexer": "ipython3",
   "version": "3.11.5"
  }
 },
 "nbformat": 4,
 "nbformat_minor": 2
}
